{
 "cells": [
  {
   "cell_type": "code",
   "execution_count": 6,
   "metadata": {},
   "outputs": [],
   "source": [
    "import snowflake.connector\n",
    "\n",
    "# Set up the connection parameters\n",
    "account = 'aa34152.eu-west-2'\n",
    "user = 'ROBERT'\n",
    "password = ''\n",
    "warehouse = 'WID_COMPUTE_WH'\n",
    "database = 'WID_HACKATHON_PRIVATE_DATASETS'\n",
    "schema = 'BRIGHT_DATA_DATASETS'\n",
    "\n",
    "# Create a connection object\n",
    "conn = snowflake.connector.connect(\n",
    "    account=account,\n",
    "    user=user,\n",
    "    password=password,\n",
    "    warehouse=warehouse,\n",
    "    database=database,\n",
    "    schema=schema\n",
    ")\n",
    "\n",
    "# Create a cursor object to execute SQL statements\n",
    "cursor = conn.cursor()\n",
    "\n",
    "# Use the connection and cursor to execute queries\n",
    "# query the WID_HACKATHON_PRIVATE_DATASETS.BRIGHT_DATA_DATASETS.INSTAGRAM_ANDREW_TATE table\n",
    "cursor.execute(\"SELECT * FROM WID_HACKATHON_PRIVATE_DATASETS.BRIGHT_DATA_DATASETS.INSTAGRAM_ANDREW_TATE\")\n",
    "# show the first 5 rows\n",
    "rows = cursor.fetchmany(5)\n",
    "for row in rows:\n",
    "    print(row)\n",
    "    \n",
    "\n",
    "# Close the cursor and connection\n",
    "cursor.close()\n",
    "conn.close()\n"
   ]
  }
 ],
 "metadata": {
  "kernelspec": {
   "display_name": "Python 3",
   "language": "python",
   "name": "python3"
  },
  "language_info": {
   "codemirror_mode": {
    "name": "ipython",
    "version": 3
   },
   "file_extension": ".py",
   "mimetype": "text/x-python",
   "name": "python",
   "nbconvert_exporter": "python",
   "pygments_lexer": "ipython3",
   "version": "3.10.12"
  }
 },
 "nbformat": 4,
 "nbformat_minor": 2
}
